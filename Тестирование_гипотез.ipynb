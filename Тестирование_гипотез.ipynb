{
  "nbformat": 4,
  "nbformat_minor": 0,
  "metadata": {
    "colab": {
      "provenance": []
    },
    "kernelspec": {
      "name": "python3",
      "display_name": "Python 3"
    },
    "language_info": {
      "name": "python"
    }
  },
  "cells": [
    {
      "cell_type": "markdown",
      "source": [
        "# Одновыборочный t-тест"
      ],
      "metadata": {
        "id": "IJHjfoEzZYEe"
      }
    },
    {
      "cell_type": "markdown",
      "source": [
        "1. Проведите одновыборочный t-тест о равенстве математического ожидания генеральной совокупности значений веса мужчин на острове Джерси значению 86.44. У нас есть данные по выборке, состоящей из 40 мужчин острова Джерси. Выборочное среднее равно 83.55, стандартное отклонение 7.74."
      ],
      "metadata": {
        "id": "i-M0Z87gZdSW"
      }
    },
    {
      "cell_type": "markdown",
      "source": [
        "H0: μ = 86.44 <p>\n",
        "H1: \\mu != 86.44 <p>\n",
        "p-value < 0.05, поэтому можем отвергнуть нулевую гипотезу"
      ],
      "metadata": {
        "id": "cqwdLDwUZlEl"
      }
    },
    {
      "cell_type": "code",
      "execution_count": null,
      "metadata": {
        "colab": {
          "base_uri": "https://localhost:8080/"
        },
        "id": "mka99_NSZB1R",
        "outputId": "aee60fee-fefc-49b3-be48-6ead4d90c288"
      },
      "outputs": [
        {
          "output_type": "execute_result",
          "data": {
            "text/plain": [
              "TtestResult(statistic=-2.331985244757963, pvalue=0.024957967998908464, df=39)"
            ]
          },
          "metadata": {},
          "execution_count": 1
        }
      ],
      "source": [
        "import pandas as pd\n",
        "import numpy as np\n",
        "from scipy.stats import ttest_1samp\n",
        "\n",
        "\n",
        "weight = np.array([100, 82, 92, 88, 78, 85, 89, 79, 61, 87, 89, 87, 89, 86, 79,\n",
        "                   78, 78, 85, 89, 79, 61, 87, 92, 88, 78, 85, 79, 78, 78, 85,\n",
        "                   101, 87, 89, 86, 79, 78, 78, 85, 89, 79])\n",
        "\n",
        "\n",
        "\n",
        "ttest_1samp(weight, 86.44)"
      ]
    },
    {
      "cell_type": "markdown",
      "source": [
        "2. Проведите одновыборочный t-тест о равенстве математического ожидания значений изменения индекса S&P 500 значению 0.00087. Известная нам выборка состоит из 1254 значений изменений индекса S&P 500. Выведите полученное значение t-статистики (statistic) на экран, округлив до 5 знаков после запятой."
      ],
      "metadata": {
        "id": "_BicQTCAaDKF"
      }
    },
    {
      "cell_type": "markdown",
      "source": [
        "Датафрейм выглядит следующим образом\n",
        "```\n",
        "            Date  Return_SP_500\n",
        "0     02.12.2014       0.006384\n",
        "1     03.12.2014       0.003765\n",
        "2     04.12.2014      -0.001162\n",
        "3     05.12.2014       0.001665\n",
        "4     08.12.2014      -0.007257\n",
        "...          ...            ...\n",
        "1249  18.11.2019       0.000503\n",
        "1250  19.11.2019      -0.000593\n",
        "1251  20.11.2019      -0.003756\n",
        "1252  21.11.2019      -0.001583\n",
        "1253  22.11.2019       0.002175\n",
        "```\n",
        "\n",
        "\n",
        "\n",
        "[1254 rows x 2 columns]"
      ],
      "metadata": {
        "id": "_Bqgq0qSaOcV"
      }
    },
    {
      "cell_type": "code",
      "source": [
        "import pandas as pd\n",
        "from scipy.stats import ttest_1samp\n",
        "\n",
        "def solution(A):\n",
        "    x = ttest_1samp(A['Return_SP_500'], 0.00087)[0]\n",
        "    return round(x, 5)\n",
        "\n",
        "print(solution(A))"
      ],
      "metadata": {
        "id": "XgJ3dp4vZP2z"
      },
      "execution_count": null,
      "outputs": []
    },
    {
      "cell_type": "markdown",
      "source": [
        "# Двухвыборочный t-тест & тест Уэлча"
      ],
      "metadata": {
        "id": "3jDE-Rg8S7Ow"
      }
    },
    {
      "cell_type": "markdown",
      "source": [
        "1. Есть две выборки значений среднегодовой доходности банковского сектора в США и Китае с 1971 по 2019 год. Оцените гомогенность дисперсий. Выведите отношение большей выборочной дисперсии к меньшей выборочной дисперсии на экран, округлив полученное значение до 5 знаков после запятой."
      ],
      "metadata": {
        "id": "nHUsWlkDS_8B"
      }
    },
    {
      "cell_type": "markdown",
      "source": [
        "\n",
        "\n",
        "```\n",
        "    Year     China        US\n",
        "0   1971  1.995611  3.073314\n",
        "1   1972  4.138085  3.968556\n",
        "2   1973  4.642153  6.318245\n",
        "3   1974 -1.445129 -2.545877\n",
        "4   1975 -1.184589 -1.466335\n",
        "5   1976  4.391463  2.935589\n",
        "6   1977  3.577153  2.491438\n",
        "```\n",
        "\n"
      ],
      "metadata": {
        "id": "YWzL21SgTD8a"
      }
    },
    {
      "cell_type": "code",
      "source": [
        "l = \"\"\"0   1971  1.995611  3.073314\n",
        "1   1972  4.138085  3.968556\n",
        "2   1973  4.642153  6.318245\n",
        "3   1974 -1.445129 -2.545877\n",
        "4   1975 -1.184589 -1.466335\n",
        "5   1976  4.391463  2.935589\n",
        "6   1977  3.577153  2.491438\n",
        "7   1978  4.422982  4.198675\n",
        "8   1979  2.033892  3.655966\n",
        "9   1980 -1.209300 -2.148387\n",
        "10  1981  1.536320 -0.822285\n",
        "11  1982 -2.734557  2.031456\n",
        "12  1983  3.631993  4.186321\n",
        "13  1984  6.312155  2.107380\n",
        "14  1985  3.250656  3.911319\n",
        "15  1986  2.510892  2.911710\n",
        "16  1987  2.538941  5.168872\n",
        "17  1988  3.235401  5.497881\n",
        "18  1989  2.698175  2.310929\n",
        "19  1990  0.741482  0.433081\n",
        "20  1991 -1.434195 -1.408486\n",
        "21  1992  2.096615  0.129933\n",
        "22  1993  1.406758  2.244411\n",
        "23  1994  2.760928  3.581968\n",
        "24  1995  1.468787  2.260784\n",
        "25  1996  2.572196  2.230895\n",
        "26  1997  3.197253  3.587693\n",
        "27  1998  3.270524  3.343266\n",
        "28  1999  3.557193  3.083962\n",
        "29  2000  2.975209  3.068548\n",
        "30  2001  0.003649  2.578699\n",
        "31  2002  0.802104  1.892090\n",
        "32  2003  1.980926  2.806552\n",
        "33  2004  2.842681  1.793156\n",
        "34  2005  2.563502  2.473712\n",
        "35  2006  1.867956  2.035550\n",
        "36  2007  0.911866  1.636058\n",
        "37  2008 -1.076700 -1.062893\n",
        "38  2009 -3.387436 -4.969350\n",
        "39  2010  1.718201  1.153475\n",
        "40  2011  0.822278  0.749697\n",
        "41  2012  1.508614  0.775735\n",
        "42  2013  1.145053  1.457702\n",
        "43  2014  1.709322  1.854585\n",
        "44  2015  2.131960  1.547697\n",
        "45  2016  0.841916  1.148663\n",
        "46  2017  1.574044  1.202194\n",
        "47  2018  2.391097  0.728524\n",
        "48  2019  1.849711  0.841075\"\"\"\n",
        "\n",
        "l = l.split(\"\\n\")\n",
        "l = [i.split() for i in l]\n",
        "\n",
        "China = [float(i[2]) for i in l]\n",
        "US = [float(i[3]) for i in l]\n",
        "\n",
        "import pandas as pd\n",
        "\n",
        "df = pd.DataFrame()\n",
        "df['Year'] = list(range(1971, 2020))\n",
        "df['China'] = China\n",
        "df['US'] = US"
      ],
      "metadata": {
        "id": "v_bXt0J0TC5M"
      },
      "execution_count": 1,
      "outputs": []
    },
    {
      "cell_type": "code",
      "source": [
        "df.China.var()"
      ],
      "metadata": {
        "colab": {
          "base_uri": "https://localhost:8080/"
        },
        "id": "hmDogYbWTfaa",
        "outputId": "644bdbd2-886b-4925-8ba4-957e9abee15f"
      },
      "execution_count": 3,
      "outputs": [
        {
          "output_type": "execute_result",
          "data": {
            "text/plain": [
              "3.6686111212447674"
            ]
          },
          "metadata": {},
          "execution_count": 3
        }
      ]
    },
    {
      "cell_type": "code",
      "source": [
        "df.US.var()"
      ],
      "metadata": {
        "colab": {
          "base_uri": "https://localhost:8080/"
        },
        "id": "_9qUsJJgTkoM",
        "outputId": "2c298d14-e0b4-4f47-cc30-8a19ce754aaa"
      },
      "execution_count": 4,
      "outputs": [
        {
          "output_type": "execute_result",
          "data": {
            "text/plain": [
              "4.494474689701743"
            ]
          },
          "metadata": {},
          "execution_count": 4
        }
      ]
    },
    {
      "cell_type": "code",
      "source": [
        "import pandas as pd\n",
        "\n",
        "def solution(A):\n",
        "    return round(A.US.var() / A.China.var(), 5)\n",
        "\n",
        "print(solution(df))"
      ],
      "metadata": {
        "colab": {
          "base_uri": "https://localhost:8080/"
        },
        "id": "K0yFla1FT1GU",
        "outputId": "1ab180df-182a-4069-fffa-8a6f6f60f661"
      },
      "execution_count": 7,
      "outputs": [
        {
          "output_type": "stream",
          "name": "stdout",
          "text": [
            "1.22512\n"
          ]
        }
      ]
    },
    {
      "cell_type": "markdown",
      "source": [
        "2. Есть две выборки значений среднегодовой доходности банковского сектора в США и Китае с 1971 по 2019 год. Проведите необходимый t-тест на проверку равенства средних. Выведите значение p-value на экран, округлив полученное значение до 5 знаков после запятой."
      ],
      "metadata": {
        "id": "SeU9U5JvUNtx"
      }
    },
    {
      "cell_type": "code",
      "source": [
        "from scipy.stats import ttest_ind\n",
        "\n",
        "print(ttest_ind(df['China'], df['US'])[1].round(5))"
      ],
      "metadata": {
        "colab": {
          "base_uri": "https://localhost:8080/"
        },
        "id": "bCeYLoLGT_ep",
        "outputId": "b325cf6a-1760-433b-f498-e0480341e10a"
      },
      "execution_count": 13,
      "outputs": [
        {
          "output_type": "stream",
          "name": "stdout",
          "text": [
            "0.92737\n"
          ]
        }
      ]
    },
    {
      "cell_type": "markdown",
      "source": [
        "3. Университет провел исследование, чтобы выяснить, правда ли, что громкая музыка в наушниках у студентов во время экзамена негативно сказывается на их результатах. Для этого во время финальных экзаменов случайным образом были отобраны 250 студентов, которых случайным образом разделили на две равные выборки: тестовую и контрольную. Студентам из тестовой выборки во время экзамена давали наушники и включали Led Zeppelin на полную громкость. Студентам из контрольной выборки предоставили тихую аудиторию и дали прохладной водички. Итоговые результаты студентов из двух выборок записаны в датафрейм (0-плохо, 50-отлично). Проведите нужные статистические тесты, не забудьте проверить распределения на нормальность, а их дисперсии на гомогенность. Определите на основе полученных результатов теста, можно ли отвергнуть нулевую гипотезу о том, что громкая музыка никак не мешает студентам сдавать экзамены.\n",
        "\n",
        "Выведите значение p-value на экран, округлив полученное значение до 5 знаков после запятой."
      ],
      "metadata": {
        "id": "GxlV5a0TWTQT"
      }
    },
    {
      "cell_type": "code",
      "source": [
        "df = pd.read_csv('https://stepik.org/media/attachments/course/201739/research.csv')\n",
        "df.head()"
      ],
      "metadata": {
        "colab": {
          "base_uri": "https://localhost:8080/",
          "height": 206
        },
        "id": "n8dOABxdVn1f",
        "outputId": "b664c615-e059-4478-8868-17a5a275ffc3"
      },
      "execution_count": 14,
      "outputs": [
        {
          "output_type": "execute_result",
          "data": {
            "text/plain": [
              "    test  control\n",
              "0  29.07    29.91\n",
              "1  22.60    28.44\n",
              "2  24.10    27.81\n",
              "3  25.22    30.82\n",
              "4  21.63    27.42"
            ],
            "text/html": [
              "\n",
              "  <div id=\"df-3467fd11-a3b5-4060-be52-6d573f37f544\" class=\"colab-df-container\">\n",
              "    <div>\n",
              "<style scoped>\n",
              "    .dataframe tbody tr th:only-of-type {\n",
              "        vertical-align: middle;\n",
              "    }\n",
              "\n",
              "    .dataframe tbody tr th {\n",
              "        vertical-align: top;\n",
              "    }\n",
              "\n",
              "    .dataframe thead th {\n",
              "        text-align: right;\n",
              "    }\n",
              "</style>\n",
              "<table border=\"1\" class=\"dataframe\">\n",
              "  <thead>\n",
              "    <tr style=\"text-align: right;\">\n",
              "      <th></th>\n",
              "      <th>test</th>\n",
              "      <th>control</th>\n",
              "    </tr>\n",
              "  </thead>\n",
              "  <tbody>\n",
              "    <tr>\n",
              "      <th>0</th>\n",
              "      <td>29.07</td>\n",
              "      <td>29.91</td>\n",
              "    </tr>\n",
              "    <tr>\n",
              "      <th>1</th>\n",
              "      <td>22.60</td>\n",
              "      <td>28.44</td>\n",
              "    </tr>\n",
              "    <tr>\n",
              "      <th>2</th>\n",
              "      <td>24.10</td>\n",
              "      <td>27.81</td>\n",
              "    </tr>\n",
              "    <tr>\n",
              "      <th>3</th>\n",
              "      <td>25.22</td>\n",
              "      <td>30.82</td>\n",
              "    </tr>\n",
              "    <tr>\n",
              "      <th>4</th>\n",
              "      <td>21.63</td>\n",
              "      <td>27.42</td>\n",
              "    </tr>\n",
              "  </tbody>\n",
              "</table>\n",
              "</div>\n",
              "    <div class=\"colab-df-buttons\">\n",
              "\n",
              "  <div class=\"colab-df-container\">\n",
              "    <button class=\"colab-df-convert\" onclick=\"convertToInteractive('df-3467fd11-a3b5-4060-be52-6d573f37f544')\"\n",
              "            title=\"Convert this dataframe to an interactive table.\"\n",
              "            style=\"display:none;\">\n",
              "\n",
              "  <svg xmlns=\"http://www.w3.org/2000/svg\" height=\"24px\" viewBox=\"0 -960 960 960\">\n",
              "    <path d=\"M120-120v-720h720v720H120Zm60-500h600v-160H180v160Zm220 220h160v-160H400v160Zm0 220h160v-160H400v160ZM180-400h160v-160H180v160Zm440 0h160v-160H620v160ZM180-180h160v-160H180v160Zm440 0h160v-160H620v160Z\"/>\n",
              "  </svg>\n",
              "    </button>\n",
              "\n",
              "  <style>\n",
              "    .colab-df-container {\n",
              "      display:flex;\n",
              "      gap: 12px;\n",
              "    }\n",
              "\n",
              "    .colab-df-convert {\n",
              "      background-color: #E8F0FE;\n",
              "      border: none;\n",
              "      border-radius: 50%;\n",
              "      cursor: pointer;\n",
              "      display: none;\n",
              "      fill: #1967D2;\n",
              "      height: 32px;\n",
              "      padding: 0 0 0 0;\n",
              "      width: 32px;\n",
              "    }\n",
              "\n",
              "    .colab-df-convert:hover {\n",
              "      background-color: #E2EBFA;\n",
              "      box-shadow: 0px 1px 2px rgba(60, 64, 67, 0.3), 0px 1px 3px 1px rgba(60, 64, 67, 0.15);\n",
              "      fill: #174EA6;\n",
              "    }\n",
              "\n",
              "    .colab-df-buttons div {\n",
              "      margin-bottom: 4px;\n",
              "    }\n",
              "\n",
              "    [theme=dark] .colab-df-convert {\n",
              "      background-color: #3B4455;\n",
              "      fill: #D2E3FC;\n",
              "    }\n",
              "\n",
              "    [theme=dark] .colab-df-convert:hover {\n",
              "      background-color: #434B5C;\n",
              "      box-shadow: 0px 1px 3px 1px rgba(0, 0, 0, 0.15);\n",
              "      filter: drop-shadow(0px 1px 2px rgba(0, 0, 0, 0.3));\n",
              "      fill: #FFFFFF;\n",
              "    }\n",
              "  </style>\n",
              "\n",
              "    <script>\n",
              "      const buttonEl =\n",
              "        document.querySelector('#df-3467fd11-a3b5-4060-be52-6d573f37f544 button.colab-df-convert');\n",
              "      buttonEl.style.display =\n",
              "        google.colab.kernel.accessAllowed ? 'block' : 'none';\n",
              "\n",
              "      async function convertToInteractive(key) {\n",
              "        const element = document.querySelector('#df-3467fd11-a3b5-4060-be52-6d573f37f544');\n",
              "        const dataTable =\n",
              "          await google.colab.kernel.invokeFunction('convertToInteractive',\n",
              "                                                    [key], {});\n",
              "        if (!dataTable) return;\n",
              "\n",
              "        const docLinkHtml = 'Like what you see? Visit the ' +\n",
              "          '<a target=\"_blank\" href=https://colab.research.google.com/notebooks/data_table.ipynb>data table notebook</a>'\n",
              "          + ' to learn more about interactive tables.';\n",
              "        element.innerHTML = '';\n",
              "        dataTable['output_type'] = 'display_data';\n",
              "        await google.colab.output.renderOutput(dataTable, element);\n",
              "        const docLink = document.createElement('div');\n",
              "        docLink.innerHTML = docLinkHtml;\n",
              "        element.appendChild(docLink);\n",
              "      }\n",
              "    </script>\n",
              "  </div>\n",
              "\n",
              "\n",
              "<div id=\"df-8d7b122d-e9ad-4dfc-891d-462cb137483d\">\n",
              "  <button class=\"colab-df-quickchart\" onclick=\"quickchart('df-8d7b122d-e9ad-4dfc-891d-462cb137483d')\"\n",
              "            title=\"Suggest charts\"\n",
              "            style=\"display:none;\">\n",
              "\n",
              "<svg xmlns=\"http://www.w3.org/2000/svg\" height=\"24px\"viewBox=\"0 0 24 24\"\n",
              "     width=\"24px\">\n",
              "    <g>\n",
              "        <path d=\"M19 3H5c-1.1 0-2 .9-2 2v14c0 1.1.9 2 2 2h14c1.1 0 2-.9 2-2V5c0-1.1-.9-2-2-2zM9 17H7v-7h2v7zm4 0h-2V7h2v10zm4 0h-2v-4h2v4z\"/>\n",
              "    </g>\n",
              "</svg>\n",
              "  </button>\n",
              "\n",
              "<style>\n",
              "  .colab-df-quickchart {\n",
              "      --bg-color: #E8F0FE;\n",
              "      --fill-color: #1967D2;\n",
              "      --hover-bg-color: #E2EBFA;\n",
              "      --hover-fill-color: #174EA6;\n",
              "      --disabled-fill-color: #AAA;\n",
              "      --disabled-bg-color: #DDD;\n",
              "  }\n",
              "\n",
              "  [theme=dark] .colab-df-quickchart {\n",
              "      --bg-color: #3B4455;\n",
              "      --fill-color: #D2E3FC;\n",
              "      --hover-bg-color: #434B5C;\n",
              "      --hover-fill-color: #FFFFFF;\n",
              "      --disabled-bg-color: #3B4455;\n",
              "      --disabled-fill-color: #666;\n",
              "  }\n",
              "\n",
              "  .colab-df-quickchart {\n",
              "    background-color: var(--bg-color);\n",
              "    border: none;\n",
              "    border-radius: 50%;\n",
              "    cursor: pointer;\n",
              "    display: none;\n",
              "    fill: var(--fill-color);\n",
              "    height: 32px;\n",
              "    padding: 0;\n",
              "    width: 32px;\n",
              "  }\n",
              "\n",
              "  .colab-df-quickchart:hover {\n",
              "    background-color: var(--hover-bg-color);\n",
              "    box-shadow: 0 1px 2px rgba(60, 64, 67, 0.3), 0 1px 3px 1px rgba(60, 64, 67, 0.15);\n",
              "    fill: var(--button-hover-fill-color);\n",
              "  }\n",
              "\n",
              "  .colab-df-quickchart-complete:disabled,\n",
              "  .colab-df-quickchart-complete:disabled:hover {\n",
              "    background-color: var(--disabled-bg-color);\n",
              "    fill: var(--disabled-fill-color);\n",
              "    box-shadow: none;\n",
              "  }\n",
              "\n",
              "  .colab-df-spinner {\n",
              "    border: 2px solid var(--fill-color);\n",
              "    border-color: transparent;\n",
              "    border-bottom-color: var(--fill-color);\n",
              "    animation:\n",
              "      spin 1s steps(1) infinite;\n",
              "  }\n",
              "\n",
              "  @keyframes spin {\n",
              "    0% {\n",
              "      border-color: transparent;\n",
              "      border-bottom-color: var(--fill-color);\n",
              "      border-left-color: var(--fill-color);\n",
              "    }\n",
              "    20% {\n",
              "      border-color: transparent;\n",
              "      border-left-color: var(--fill-color);\n",
              "      border-top-color: var(--fill-color);\n",
              "    }\n",
              "    30% {\n",
              "      border-color: transparent;\n",
              "      border-left-color: var(--fill-color);\n",
              "      border-top-color: var(--fill-color);\n",
              "      border-right-color: var(--fill-color);\n",
              "    }\n",
              "    40% {\n",
              "      border-color: transparent;\n",
              "      border-right-color: var(--fill-color);\n",
              "      border-top-color: var(--fill-color);\n",
              "    }\n",
              "    60% {\n",
              "      border-color: transparent;\n",
              "      border-right-color: var(--fill-color);\n",
              "    }\n",
              "    80% {\n",
              "      border-color: transparent;\n",
              "      border-right-color: var(--fill-color);\n",
              "      border-bottom-color: var(--fill-color);\n",
              "    }\n",
              "    90% {\n",
              "      border-color: transparent;\n",
              "      border-bottom-color: var(--fill-color);\n",
              "    }\n",
              "  }\n",
              "</style>\n",
              "\n",
              "  <script>\n",
              "    async function quickchart(key) {\n",
              "      const quickchartButtonEl =\n",
              "        document.querySelector('#' + key + ' button');\n",
              "      quickchartButtonEl.disabled = true;  // To prevent multiple clicks.\n",
              "      quickchartButtonEl.classList.add('colab-df-spinner');\n",
              "      try {\n",
              "        const charts = await google.colab.kernel.invokeFunction(\n",
              "            'suggestCharts', [key], {});\n",
              "      } catch (error) {\n",
              "        console.error('Error during call to suggestCharts:', error);\n",
              "      }\n",
              "      quickchartButtonEl.classList.remove('colab-df-spinner');\n",
              "      quickchartButtonEl.classList.add('colab-df-quickchart-complete');\n",
              "    }\n",
              "    (() => {\n",
              "      let quickchartButtonEl =\n",
              "        document.querySelector('#df-8d7b122d-e9ad-4dfc-891d-462cb137483d button');\n",
              "      quickchartButtonEl.style.display =\n",
              "        google.colab.kernel.accessAllowed ? 'block' : 'none';\n",
              "    })();\n",
              "  </script>\n",
              "</div>\n",
              "    </div>\n",
              "  </div>\n"
            ],
            "application/vnd.google.colaboratory.intrinsic+json": {
              "type": "dataframe",
              "variable_name": "df",
              "summary": "{\n  \"name\": \"df\",\n  \"rows\": 125,\n  \"fields\": [\n    {\n      \"column\": \"test\",\n      \"properties\": {\n        \"dtype\": \"number\",\n        \"std\": 2.960029243534706,\n        \"min\": 17.14,\n        \"max\": 30.78,\n        \"num_unique_values\": 122,\n        \"samples\": [\n          24.82,\n          18.59,\n          30.74\n        ],\n        \"semantic_type\": \"\",\n        \"description\": \"\"\n      }\n    },\n    {\n      \"column\": \"control\",\n      \"properties\": {\n        \"dtype\": \"number\",\n        \"std\": 4.680109232251578,\n        \"min\": 15.74,\n        \"max\": 36.32,\n        \"num_unique_values\": 118,\n        \"samples\": [\n          27.93,\n          26.2,\n          27.42\n        ],\n        \"semantic_type\": \"\",\n        \"description\": \"\"\n      }\n    }\n  ]\n}"
            }
          },
          "metadata": {},
          "execution_count": 14
        }
      ]
    },
    {
      "cell_type": "code",
      "source": [
        "print(f'test: {df.test.var()}, control: {df.control.var()}')\n",
        "print(df.control.var()/df.test.var())"
      ],
      "metadata": {
        "colab": {
          "base_uri": "https://localhost:8080/"
        },
        "id": "13yyPhrhWqCk",
        "outputId": "511d7adb-9a7a-401e-9df4-e2b8c3fc359f"
      },
      "execution_count": 17,
      "outputs": [
        {
          "output_type": "stream",
          "name": "stdout",
          "text": [
            "test: 8.761773122580644, control: 21.90342242580645\n",
            "2.4998846830851447\n"
          ]
        }
      ]
    },
    {
      "cell_type": "markdown",
      "source": [
        "Дисперсии гоморенны по критерию Фишера"
      ],
      "metadata": {
        "id": "HtUobnyQXIzI"
      }
    },
    {
      "cell_type": "code",
      "source": [
        "import statsmodels.api as sm\n",
        "import matplotlib.pyplot as plt\n",
        "from numpy.random import lognormal, randn\n",
        "import numpy as np\n",
        "\n",
        "data = df.control.copy()\n",
        "ax = (sm.qqplot(data, line='45'), sm.qqplot(data, line='45'))\n",
        "plt.show()"
      ],
      "metadata": {
        "colab": {
          "base_uri": "https://localhost:8080/",
          "height": 881
        },
        "id": "XHKDnsPAYxTN",
        "outputId": "471b2e94-a38c-4251-8dbd-ef2cfdd1806a"
      },
      "execution_count": 36,
      "outputs": [
        {
          "output_type": "display_data",
          "data": {
            "text/plain": [
              "<Figure size 640x480 with 1 Axes>"
            ],
            "image/png": "[encoded data removed]"
          },
          "metadata": {}
        },
        {
          "output_type": "display_data",
          "data": {
            "text/plain": [
              "<Figure size 640x480 with 1 Axes>"
            ],
            "image/png": "[encoded data removed]"
          },
          "metadata": {}
        }
      ]
    },
    {
      "cell_type": "code",
      "source": [
        "ttest_ind(df.test, df.control)[1].round(5)"
      ],
      "metadata": {
        "colab": {
          "base_uri": "https://localhost:8080/"
        },
        "id": "ssa75v8jW_Z-",
        "outputId": "955f6e37-78d3-4dc9-a115-ba0ddc27f878"
      },
      "execution_count": 19,
      "outputs": [
        {
          "output_type": "execute_result",
          "data": {
            "text/plain": [
              "0.00305"
            ]
          },
          "metadata": {},
          "execution_count": 19
        }
      ]
    },
    {
      "cell_type": "markdown",
      "source": [
        "Можем отклонить H0"
      ],
      "metadata": {
        "id": "SKNLM9cyYP8-"
      }
    }
  ]
}